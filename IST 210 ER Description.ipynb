{
 "cells": [
  {
   "cell_type": "markdown",
   "metadata": {},
   "source": [
    "For our database, we used the idea of a music streaming service where users have an account and can listen to music, make playlists and see the songs they have played. For each user there is a UserInformation table which records information about what the user listens to, the account creation date and their card which is linked to payment. UserInformation has a one-to-one relationship with UserTransaction which has a primary key of the credit/debit card used to pay for a membership and payment information. Each song played has an optional many-to-one relationship with the user that listens to it. They are dependent entities on the UserInformation entity. Additionally, every song played has a mandatory many-to-many relationship with the SongInformation entity, of which songID is the primary key. This contains information like the song's title, the artist, the album and the cover art. Users can also listen to podcasts on our streaming service that are linked to a users account. The Podcast entity contains the podcast name, how many people are listening to the podcast, how many people have in total listened to the podcast and the duration of the podcast. Podcasts has an optional many-to-many relationship with the UserInformation entity. The podcastID is a foreign key in the UserInformation entity."
   ]
  }
 ],
 "metadata": {
  "kernelspec": {
   "display_name": "Python 3",
   "language": "python",
   "name": "python3"
  },
  "language_info": {
   "codemirror_mode": {
    "name": "ipython",
    "version": 3
   },
   "file_extension": ".py",
   "mimetype": "text/x-python",
   "name": "python",
   "nbconvert_exporter": "python",
   "pygments_lexer": "ipython3",
   "version": "3.7.1"
  }
 },
 "nbformat": 4,
 "nbformat_minor": 2
}
